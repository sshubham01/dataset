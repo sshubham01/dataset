{
 "cells": [
  {
   "cell_type": "markdown",
   "id": "42a47c5d",
   "metadata": {},
   "source": [
    "# Question 1"
   ]
  },
  {
   "cell_type": "code",
   "execution_count": 84,
   "id": "e80aa040",
   "metadata": {},
   "outputs": [
    {
     "data": {
      "text/plain": [
       "[1, 2, 3, 4, 1, 2, 3, 4]"
      ]
     },
     "execution_count": 84,
     "metadata": {},
     "output_type": "execute_result"
    }
   ],
   "source": [
    "# Que 1\n",
    "\n",
    "X = [1, 2 ,3, 4]\n",
    "X * 2"
   ]
  },
  {
   "cell_type": "code",
   "execution_count": 10,
   "id": "0faac151",
   "metadata": {},
   "outputs": [
    {
     "data": {
      "text/plain": [
       "[1, 2, 3, 4, 5, 6, 7, 8, 4]"
      ]
     },
     "execution_count": 10,
     "metadata": {},
     "output_type": "execute_result"
    }
   ],
   "source": [
    "# Que 2\n",
    "Y = [5,6,7,8,4]\n",
    "\n",
    "X + Y"
   ]
  },
  {
   "cell_type": "code",
   "execution_count": 48,
   "id": "084a5264",
   "metadata": {},
   "outputs": [
    {
     "data": {
      "text/plain": [
       "[]"
      ]
     },
     "execution_count": 48,
     "metadata": {},
     "output_type": "execute_result"
    }
   ],
   "source": [
    "# Que 3\n",
    "Myself=['02 September 1997',1,'Goa','Mumbai','Product Manager',1,80000,'Bandra',['BasketBall',('NBA2k',['Taj Mahal','Black',1])]]\n",
    "Myself.clear()\n",
    "Myself"
   ]
  },
  {
   "cell_type": "code",
   "execution_count": 16,
   "id": "88d1df65",
   "metadata": {},
   "outputs": [
    {
     "data": {
      "text/plain": [
       "12"
      ]
     },
     "execution_count": 16,
     "metadata": {},
     "output_type": "execute_result"
    }
   ],
   "source": [
    "#Que 4\n",
    "Z = [1,2,3,4,5,54,3,2,1,4,64,3]\n",
    "len(Z)"
   ]
  },
  {
   "cell_type": "code",
   "execution_count": 17,
   "id": "5795fe37",
   "metadata": {},
   "outputs": [
    {
     "data": {
      "text/plain": [
       "[1, 2, 3, 4, 5, 123345, 54, 3, 2, 1, 4, 64, 3]"
      ]
     },
     "execution_count": 17,
     "metadata": {},
     "output_type": "execute_result"
    }
   ],
   "source": [
    "# Que 6\n",
    "Z.insert(5,123345)\n",
    "Z"
   ]
  },
  {
   "cell_type": "code",
   "execution_count": 25,
   "id": "a865f9c1",
   "metadata": {},
   "outputs": [
    {
     "data": {
      "text/plain": [
       "[123345, 64, 54, 5, 4, 4, 3, 3, 3, 2, 2, 1, 1]"
      ]
     },
     "execution_count": 25,
     "metadata": {},
     "output_type": "execute_result"
    }
   ],
   "source": [
    "# Que 7\n",
    "Z.sort(reverse=True) \n",
    "Z"
   ]
  },
  {
   "cell_type": "code",
   "execution_count": 80,
   "id": "600329fc",
   "metadata": {},
   "outputs": [
    {
     "data": {
      "text/plain": [
       "1"
      ]
     },
     "execution_count": 80,
     "metadata": {},
     "output_type": "execute_result"
    }
   ],
   "source": [
    "# Que 8\n",
    "Z = [[1,2,3],[4,5,54],[3,2,1],[4,64,3]]\n",
    "(Z[0][0])\n"
   ]
  },
  {
   "cell_type": "code",
   "execution_count": 69,
   "id": "c2351aef",
   "metadata": {},
   "outputs": [
    {
     "data": {
      "text/plain": [
       "{1, 2, 3, 4, 5, 54, 64}"
      ]
     },
     "execution_count": 69,
     "metadata": {},
     "output_type": "execute_result"
    }
   ],
   "source": [
    "# Que 9\n",
    "Z = [1,2,3,4,5,54,3,2,1,4,64,3]\n",
    "set(Z)"
   ]
  },
  {
   "cell_type": "code",
   "execution_count": 40,
   "id": "baaf0f15",
   "metadata": {},
   "outputs": [
    {
     "data": {
      "text/plain": [
       "[4]"
      ]
     },
     "execution_count": 40,
     "metadata": {},
     "output_type": "execute_result"
    }
   ],
   "source": [
    "# Que 10\n",
    "X = [1,2,3,4]\n",
    "Y = [5,6,7,8,4]\n",
    "list(set(X) & set(Y))"
   ]
  },
  {
   "cell_type": "markdown",
   "id": "1b862b81",
   "metadata": {},
   "source": [
    "# Question 2"
   ]
  },
  {
   "cell_type": "code",
   "execution_count": 36,
   "id": "797d7bee",
   "metadata": {},
   "outputs": [
    {
     "data": {
      "text/plain": [
       "-1.243"
      ]
     },
     "execution_count": 36,
     "metadata": {},
     "output_type": "execute_result"
    }
   ],
   "source": [
    "# Que 1\n",
    "# A\n",
    "\n",
    "round(1.23742,2)\n"
   ]
  },
  {
   "cell_type": "code",
   "execution_count": 37,
   "id": "89d3f175",
   "metadata": {},
   "outputs": [
    {
     "data": {
      "text/plain": [
       "-1.243"
      ]
     },
     "execution_count": 37,
     "metadata": {},
     "output_type": "execute_result"
    }
   ],
   "source": [
    "#B\n",
    "\n",
    "round(-1.243225,3)"
   ]
  },
  {
   "cell_type": "code",
   "execution_count": 66,
   "id": "6eef573d",
   "metadata": {},
   "outputs": [
    {
     "data": {
      "text/plain": [
       "1628000"
      ]
     },
     "execution_count": 66,
     "metadata": {},
     "output_type": "execute_result"
    }
   ],
   "source": [
    "#C\n",
    "\n",
    "round(1627731,-3)"
   ]
  },
  {
   "cell_type": "code",
   "execution_count": 68,
   "id": "4c34f655",
   "metadata": {},
   "outputs": [
    {
     "data": {
      "text/plain": [
       "'1.23'"
      ]
     },
     "execution_count": 68,
     "metadata": {},
     "output_type": "execute_result"
    }
   ],
   "source": [
    "# Que 2\n",
    "# A\n",
    "\n",
    "X = 1.234567\n",
    "format(X,'.2f')\n"
   ]
  },
  {
   "cell_type": "code",
   "execution_count": 44,
   "id": "cc3b09b9",
   "metadata": {},
   "outputs": [],
   "source": [
    "# B\n",
    "\n",
    "Y = 2.1234567"
   ]
  },
  {
   "cell_type": "code",
   "execution_count": 54,
   "id": "b5de2d7f",
   "metadata": {},
   "outputs": [
    {
     "data": {
      "text/plain": [
       "'0b10011010010'"
      ]
     },
     "execution_count": 54,
     "metadata": {},
     "output_type": "execute_result"
    }
   ],
   "source": [
    "# Que 3\n",
    "# A\n",
    "\n",
    "X = 1234\n",
    "\n",
    "bin(X)"
   ]
  },
  {
   "cell_type": "code",
   "execution_count": 55,
   "id": "55906ab8",
   "metadata": {},
   "outputs": [
    {
     "data": {
      "text/plain": [
       "'0o2322'"
      ]
     },
     "execution_count": 55,
     "metadata": {},
     "output_type": "execute_result"
    }
   ],
   "source": [
    "oct(X)"
   ]
  },
  {
   "cell_type": "code",
   "execution_count": 56,
   "id": "e303f976",
   "metadata": {},
   "outputs": [
    {
     "data": {
      "text/plain": [
       "'0x4d2'"
      ]
     },
     "execution_count": 56,
     "metadata": {},
     "output_type": "execute_result"
    }
   ],
   "source": [
    "hex(X)"
   ]
  },
  {
   "cell_type": "code",
   "execution_count": 57,
   "id": "38e24798",
   "metadata": {},
   "outputs": [
    {
     "data": {
      "text/plain": [
       "'0b1111'"
      ]
     },
     "execution_count": 57,
     "metadata": {},
     "output_type": "execute_result"
    }
   ],
   "source": [
    "#B\n",
    "\n",
    "Y = 15\n",
    "bin(Y)"
   ]
  },
  {
   "cell_type": "code",
   "execution_count": 58,
   "id": "efee1011",
   "metadata": {},
   "outputs": [
    {
     "data": {
      "text/plain": [
       "'0o17'"
      ]
     },
     "execution_count": 58,
     "metadata": {},
     "output_type": "execute_result"
    }
   ],
   "source": [
    "oct(Y)"
   ]
  },
  {
   "cell_type": "code",
   "execution_count": 59,
   "id": "146632de",
   "metadata": {},
   "outputs": [
    {
     "data": {
      "text/plain": [
       "'0xf'"
      ]
     },
     "execution_count": 59,
     "metadata": {},
     "output_type": "execute_result"
    }
   ],
   "source": [
    "hex(Y)"
   ]
  },
  {
   "cell_type": "code",
   "execution_count": 60,
   "id": "972e42db",
   "metadata": {},
   "outputs": [
    {
     "data": {
      "text/plain": [
       "'0b1100100'"
      ]
     },
     "execution_count": 60,
     "metadata": {},
     "output_type": "execute_result"
    }
   ],
   "source": [
    "#C\n",
    "\n",
    "Z = 100\n",
    "bin(Z)"
   ]
  },
  {
   "cell_type": "code",
   "execution_count": 61,
   "id": "e9d68475",
   "metadata": {},
   "outputs": [
    {
     "data": {
      "text/plain": [
       "'0o144'"
      ]
     },
     "execution_count": 61,
     "metadata": {},
     "output_type": "execute_result"
    }
   ],
   "source": [
    "oct(Z)"
   ]
  },
  {
   "cell_type": "code",
   "execution_count": 62,
   "id": "4adc0294",
   "metadata": {},
   "outputs": [
    {
     "data": {
      "text/plain": [
       "'0x64'"
      ]
     },
     "execution_count": 62,
     "metadata": {},
     "output_type": "execute_result"
    }
   ],
   "source": [
    "hex(Z)"
   ]
  },
  {
   "cell_type": "code",
   "execution_count": 64,
   "id": "f9385034",
   "metadata": {},
   "outputs": [
    {
     "data": {
      "text/plain": [
       "1234"
      ]
     },
     "execution_count": 64,
     "metadata": {},
     "output_type": "execute_result"
    }
   ],
   "source": [
    "# Que 4\n",
    "# A\n",
    "int('4d2', base=16)"
   ]
  },
  {
   "cell_type": "code",
   "execution_count": 65,
   "id": "a1355fe9",
   "metadata": {},
   "outputs": [
    {
     "data": {
      "text/plain": [
       "1234"
      ]
     },
     "execution_count": 65,
     "metadata": {},
     "output_type": "execute_result"
    }
   ],
   "source": [
    "# B\n",
    "\n",
    "int('10011010010', base=2)"
   ]
  }
 ],
 "metadata": {
  "kernelspec": {
   "display_name": "Python 3",
   "language": "python",
   "name": "python3"
  },
  "language_info": {
   "codemirror_mode": {
    "name": "ipython",
    "version": 3
   },
   "file_extension": ".py",
   "mimetype": "text/x-python",
   "name": "python",
   "nbconvert_exporter": "python",
   "pygments_lexer": "ipython3",
   "version": "3.8.8"
  }
 },
 "nbformat": 4,
 "nbformat_minor": 5
}
